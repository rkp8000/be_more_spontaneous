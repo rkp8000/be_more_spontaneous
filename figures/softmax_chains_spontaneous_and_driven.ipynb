{
 "cells": [
  {
   "cell_type": "code",
   "execution_count": null,
   "metadata": {
    "collapsed": false
   },
   "outputs": [],
   "source": [
    "%matplotlib inline\n",
    "import softmax_chains_spontaneous_and_driven"
   ]
  },
  {
   "cell_type": "code",
   "execution_count": null,
   "metadata": {
    "collapsed": true
   },
   "outputs": [],
   "source": [
    "CONFIG_SPONTANEOUS = {\n",
    "    'SEED': None,\n",
    "    \n",
    "    'N_CHAINS': 9,\n",
    "    'CHAIN_LENGTH': 7,\n",
    "    'GAIN': 5,\n",
    "    \n",
    "    'DURATION': 7,\n",
    "    \n",
    "    'N_TRIALS': 6,\n",
    "    \n",
    "    'FIG_SIZE': (15, 12),\n",
    "    'COLORS': [(0, 0, 0), (1, 0, 0), (0, 1, 0), (0, 0, 1), (0, 1, 1), (1, 0, 1), (.5, .5, 0), (.5, .5, .5), (.5, 0, 0)],\n",
    "    'LW': 2,\n",
    "    'FONT_SIZE': 16,\n",
    "}"
   ]
  },
  {
   "cell_type": "code",
   "execution_count": null,
   "metadata": {
    "collapsed": false,
    "scrolled": false
   },
   "outputs": [],
   "source": [
    "softmax_chains_spontaneous_and_driven.spontaneous(CONFIG_SPONTANEOUS)"
   ]
  },
  {
   "cell_type": "code",
   "execution_count": null,
   "metadata": {
    "collapsed": true
   },
   "outputs": [],
   "source": [
    "CONFIG_DRIVEN = {\n",
    "    'SEED': None,\n",
    "    \n",
    "    'N_CHAINS': 9,\n",
    "    'CHAIN_LENGTH': 7,\n",
    "    'GAIN': 5,\n",
    "    \n",
    "    'DRIVE_NODE_COORDINATES': [\n",
    "            [(idx, 0), (idx, 1), (idx, 2), (idx, 3), (idx, 4), (idx, 5), (idx, 6)]\n",
    "            for idx in range(6)\n",
    "        ],\n",
    "    'DRIVE_AMPLITUDE': 3,\n",
    "    \n",
    "    'N_TRIALS': 6,\n",
    "    \n",
    "    'FIG_SIZE': (15, 12),\n",
    "    'COLORS': [(0, 0, 0), (1, 0, 0), (0, 1, 0), (0, 0, 1), (0, 1, 1), (1, 0, 1), (.5, .5, 0), (.5, .5, .5), (.5, 0, 0)],\n",
    "    'LW': 2,\n",
    "    'FONT_SIZE': 16,\n",
    "}"
   ]
  },
  {
   "cell_type": "code",
   "execution_count": null,
   "metadata": {
    "collapsed": false
   },
   "outputs": [],
   "source": [
    "softmax_chains_spontaneous_and_driven.driven(CONFIG_DRIVEN)"
   ]
  },
  {
   "cell_type": "code",
   "execution_count": null,
   "metadata": {
    "collapsed": true
   },
   "outputs": [],
   "source": [
    "CONFIG_DRIVEN['DRIVE_NODE_COORDINATES'] = [\n",
    "    [(0, 0), (0, 1), (0, 2), (1, 3), (1, 4), (1, 5), (1, 6)]\n",
    "    for _ in range(6)\n",
    "    ]"
   ]
  },
  {
   "cell_type": "code",
   "execution_count": null,
   "metadata": {
    "collapsed": false
   },
   "outputs": [],
   "source": [
    "softmax_chains_spontaneous_and_driven.driven(CONFIG_DRIVEN)"
   ]
  },
  {
   "cell_type": "code",
   "execution_count": null,
   "metadata": {
    "collapsed": true
   },
   "outputs": [],
   "source": [
    "CONFIG_DRIVEN['DRIVE_AMPLITUDE'] = 2"
   ]
  },
  {
   "cell_type": "code",
   "execution_count": null,
   "metadata": {
    "collapsed": false
   },
   "outputs": [],
   "source": [
    "softmax_chains_spontaneous_and_driven.driven(CONFIG_DRIVEN)"
   ]
  }
 ],
 "metadata": {
  "kernelspec": {
   "display_name": "Python 2",
   "language": "python",
   "name": "python2"
  },
  "language_info": {
   "codemirror_mode": {
    "name": "ipython",
    "version": 2
   },
   "file_extension": ".py",
   "mimetype": "text/x-python",
   "name": "python",
   "nbconvert_exporter": "python",
   "pygments_lexer": "ipython2",
   "version": "2.7.10"
  }
 },
 "nbformat": 4,
 "nbformat_minor": 0
}

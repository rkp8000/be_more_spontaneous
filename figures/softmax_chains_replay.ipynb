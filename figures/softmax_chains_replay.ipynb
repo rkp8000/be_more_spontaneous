{
 "cells": [
  {
   "cell_type": "code",
   "execution_count": 1,
   "metadata": {
    "collapsed": true
   },
   "outputs": [],
   "source": [
    "%matplotlib inline\n",
    "import softmax_chains_replay"
   ]
  },
  {
   "cell_type": "code",
   "execution_count": null,
   "metadata": {
    "collapsed": true
   },
   "outputs": [],
   "source": [
    "CONFIG = {\n",
    "    'SEED': None,\n",
    "    \n",
    "    'N_CHAINS': 9,\n",
    "    'CHAIN_LENGTH': 4,\n",
    "    'GAIN': 7,\n",
    "    'LINGERING_INPUT_VALUE': 1,\n",
    "    \n",
    "    'DRIVE_NODE_COORDINATES': [\n",
    "            [(chain_idx, chain_pos) for chain_pos in range(4)]\n",
    "            for chain_idx in range(6)\n",
    "        ],\n",
    "    'DRIVE_AMPLITUDE': 3,\n",
    "    \n",
    "    'N_TRIALS': 6,\n",
    "    \n",
    "    'FIG_SIZE': (15, 8),\n",
    "    'COLORS': [(0, 0, 0), (1, 0, 0), (0, 1, 0), (0, 0, 1), (0, 1, 1), (1, 0, 1), (.5, .5, 0), (.5, .5, .5), (.5, 0, 0)],\n",
    "    'LW': 2,\n",
    "    'FONT_SIZE': 16,\n",
    "}"
   ]
  },
  {
   "cell_type": "code",
   "execution_count": null,
   "metadata": {
    "collapsed": false
   },
   "outputs": [],
   "source": [
    "softmax_chains_replay.replay(CONFIG)"
   ]
  },
  {
   "cell_type": "code",
   "execution_count": null,
   "metadata": {
    "collapsed": true
   },
   "outputs": [],
   "source": [
    "CONFIG['DRIVE_NODE_COORDINATES'] = [\n",
    "    [(0, chain_pos) if chain_pos != 2 else (1, chain_pos) for chain_pos in range(4)]\n",
    "    for _ in range(6)\n",
    "]"
   ]
  },
  {
   "cell_type": "code",
   "execution_count": null,
   "metadata": {
    "collapsed": false
   },
   "outputs": [],
   "source": [
    "softmax_chains_replay.replay(CONFIG)"
   ]
  },
  {
   "cell_type": "code",
   "execution_count": null,
   "metadata": {
    "collapsed": true
   },
   "outputs": [],
   "source": [
    "CONFIG['DRIVE_NODE_COORDINATES'] = [\n",
    "    [(0, chain_pos) if chain_pos < 2 else (1, chain_pos) for chain_pos in range(4)]\n",
    "    for _ in range(6)\n",
    "]"
   ]
  },
  {
   "cell_type": "code",
   "execution_count": null,
   "metadata": {
    "collapsed": false
   },
   "outputs": [],
   "source": [
    "softmax_chains_replay.replay(CONFIG)"
   ]
  },
  {
   "cell_type": "code",
   "execution_count": null,
   "metadata": {
    "collapsed": true
   },
   "outputs": [],
   "source": [
    "CONFIG['DRIVE_NODE_COORDINATES'] = [\n",
    "    [(chain_idx, chain_pos) if chain_pos != 2 else ((chain_idx + 1)%6, chain_pos) for chain_pos in range(4)]\n",
    "    for chain_idx in range(6)\n",
    "]\n",
    "CONFIG['DRIVE_AMPLITUDE'] = 1"
   ]
  },
  {
   "cell_type": "code",
   "execution_count": null,
   "metadata": {
    "collapsed": false
   },
   "outputs": [],
   "source": [
    "softmax_chains_replay.replay(CONFIG)"
   ]
  }
 ],
 "metadata": {
  "kernelspec": {
   "display_name": "Python 2",
   "language": "python",
   "name": "python2"
  },
  "language_info": {
   "codemirror_mode": {
    "name": "ipython",
    "version": 2
   },
   "file_extension": ".py",
   "mimetype": "text/x-python",
   "name": "python",
   "nbconvert_exporter": "python",
   "pygments_lexer": "ipython2",
   "version": "2.7.10"
  }
 },
 "nbformat": 4,
 "nbformat_minor": 0
}

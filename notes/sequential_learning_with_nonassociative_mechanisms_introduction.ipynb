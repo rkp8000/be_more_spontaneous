{
 "cells": [
  {
   "cell_type": "markdown",
   "metadata": {},
   "source": [
    "Offline replay of sequential neural activity patterns that were originally induced by a specific sensory experience has been observed in many brain regions, including hippocampus ([Nadasdy et al., 1999][Nadasdy], [Louie and Wilson, 2001][Louie]), prefrontal cortex ([Euston et al., 2007][Euston]), and sensory cortex ([Ji and Wilson 2007][Ji], [Han et al., 2008][Han], [Eagleman and Dragoi, 2012][Eagleman]) in mammals, as well as in RA in songbirds ([Dave and Margoliash, 2000][Dave]). Functionally, it is thought that replay of neural activity plays a strong role in working and short-term memory ([Han et al., 2008][Han]) as well as in the long-term consolidation of memories ([Carr, et al., 2011][Carr]). However, the neurophysiological mechanisms underlying replay remain poorly understood.\n",
    "\n",
    "In order for structured sequential replay to occur, certain aspects of the stimulus-induced activity pattern must be *tagged*, such that the full or portions of the original activity sequence gains an increased probability of reactivating in the absence of further stimuli. Most models assume that such tagging occurs via increases in the weight of the directional associative coupling between sequentially activated ensembles of neurons ([Hasselmo 2008][Hasselmo], [Borisyuk et al., 2013][Borisyuk], [Kappel et al., 2014][Kappel], [Veliz-Cuba et al., 2015][Veliz-Cuba]), consistent with the well established phenomenon of spike-timing dependent plasticity (STDP) ([Bi and Poo, 2001][Bi]). For example, if during stimulus presentation ensemble A activates followed by ensemble B, then these models assert that the connections from A onto B should increase its weight. One then expects that if A activates during offline activity, B will have an increased probability of activating subsequently, relative to the case in which B had not activated after A during the stimulus presentation.\n",
    "\n",
    "While it is likely that this mechanism indeed plays a partial role in sequential replay, there are a number of reasons to suspect that it is not sufficient on its own. First, even though replay is empirically observed after only one ([Eagleman and Dragoi, 2012][Eagleman]) or a few ([Han et al., 2008][Han]) stimulus presentations, changes in associative coupling (due to STDP, for example) after a single event are typically very small and would likely be insufficient to significantly increase the probability of one specific ensembles's activation given the immediately preceding activation of another. Additionally, brain networks typically exhibit a wide variety of ongoing spatiotemporal patterns, which are indicative of a baseline pattern of connectivity ([Mohajerani et al., 2013][Mohajerani]); therefore, any changes in connection weights between sequentially activated ensembles would have to be strong enough to overcome the intrinsic biases the network has toward replaying patterns already encoded in its baseline connectivity structure. Finally, one would ideally like a mechanism by which sequential activation patterns related to recent sensory experience are held only transiently in memory, such that they could be \"embedded\" into the network's long-term repertoire of sequences if the sensory experience is particularly salient or leads to a reward, and otherwise forgotten. If novel patterns are simply encoded in synaptic weights, then the network cannot know which weights correspond to recent activity and which correspond to previously established connections, thus making the separation of short-term and long-term timescales impossible.\n",
    "\n",
    "[Bi]: http://www.ncbi.nlm.nih.gov/pubmed/11283308\n",
    "[Borisyuk]: http://www.sciencedirect.com/science/article/pii/S0303264713000737\n",
    "[Carr]: http://www.ncbi.nlm.nih.gov/pubmed/21270783\n",
    "[Dave]: http://www.ncbi.nlm.nih.gov/pubmed/11052946\n",
    "[Eagleman]: http://www.ncbi.nlm.nih.gov/pubmed/23129638\n",
    "[Euston]: http://www.ncbi.nlm.nih.gov/pubmed/18006749\n",
    "[Han]: http://www.cell.com/abstract/S0896-6273(08)00767-8\n",
    "[Hasselmo]: http://onlinelibrary.wiley.com/doi/10.1111/j.1460-9568.2008.06437.x/full\n",
    "[Ji]: http://www.nature.com/neuro/journal/v10/n1/abs/nn1825.html\n",
    "[Kappel]: http://journals.plos.org/ploscompbiol/article?id=10.1371/journal.pcbi.1003511\n",
    "[Louie]: http://www.sciencedirect.com/science/article/pii/S0896627301001866\n",
    "[Mohajerani]: http://www.nature.com/neuro/journal/v16/n10/full/nn.3499.html\n",
    "[Nadasdy]: http://www.ncbi.nlm.nih.gov/pubmed/10531452\n",
    "[Veliz-Cuba]: http://link.springer.com/article/10.1007%2Fs10827-015-0574-4#page-1"
   ]
  },
  {
   "cell_type": "markdown",
   "metadata": {},
   "source": [
    "Here we propose the involvement of an additional mechanism in sequentially structured replay: temporary increases in the excitability of recently activated neuronal ensembles. Unlike changes in connection weights between pairs of consecutively active ensembles, this is a nonassociative memory mechanism, meaning that only the identity, and not the order, of the recently activated ensembles is explicitly remembered. What do we expect to be the principal consequences of such a mechanism, even in the absence of synaptic weight changes? First of all, in a spontaneously active network, increasing an ensemble's excitability can indeed significantly increase the probability that it reactivates ([Shen and McNaughton 1996][Shen]). More generally, however, we hypothesize that changes in ensemble excitability will lead to changes in functional connectivity among ensembles that can in certain conditions be conducive to sequential replay.\n",
    "\n",
    "Before exploring this hypothesis in more detail, we note that while synaptic plasticity has received a good deal more attention in the literature, rapid changes in neuronal excitability have also been observed in a wide variety of systems. Increases in intrinsic cell excitability due to experience have been observed, for example, in both cerebellum and cortex along a timecourse on the order of minutes. Such increases typically manifest as decreases in spike threshold or increases in firing responses to a fixed depolarizing current, with NMDA receptors and Ca2+ dynamics implicated as the primary molecular factors (reviewed in [Zhang and Linden 2003][Zhang]); decreases in A-type K+ channel numbers have also been recently correlated with activity-dependent increases in intrinsic excitability ([Jung and Hoffman 2009][Jung]). It was also recently found that reactivation probability of neurons in hippocampal slices in fact directly correlated with increases in intrinsic excitability, and that these increases in intrinsic excitability were principally due to a preferential increase in the size of spontaneously received EPSCs relative to spontaneously received IPSCs in reactivating neurons ([Mizunuma et al., 2014][Mizunuma]). [Mongillo et al. 2008][Mongillo] also showed in a model that realistic increases in residual Ca2+ levels could be used to increase the excitability and consequently reactivation probability of recently activated neurons over the timecourse of about one second. Thus, it seems likely that molecular and Ca2+-based mechanisms can yield intrinsic plasticity at several timescales.\n",
    "\n",
    "It is also not unreasonable to think that, in addition to intrinsic molecular mechanisms, recurrent electrical activity in a local or global network might contribute to short-term increases in the excitability of recently activated neuronal ensembles. Indeed, in the general case it is well appreciated that ongoing activity in cortex can modulate or gate responses of individual neurons to specific inputs via the state of the surrounding network ([McCormick et al., 2003][McCormick], [Buononano et al., 2009][Buonomano], [Luczak et al., 2013][Luczak]). For example, if a neuron is receiving a higher level of baseline activity due to its network state, it may respond more easily to a weak input. More specifically, it was seen in monkey V1 that neuronal ensembles that were initially activated by a very brief (28ms) stimulus in their receptive field maintained weakly but signficantly elevated firing rates relative to ensembles that did not receive a stimulus in their receptive field, when the animal was required to remember and recall the stimulus after a delay of up to two seconds ([Super et al., 2001][Super]). Further, the extent to which the elevated firing rate differed from the non-elevated firing rate correlated with how well the animal performed the memory task. It was not known whether the elevated firing rate resulted from recurrent connectivity or from fast acting internal mechanisms, but its existence suggests that a memory \"tag\" manifested via an increased baseline can be maintained for at least two seconds, even in primary visual cortex. It is worth noting, interestingly, that both the elevated and non-elevated firing rates maintained their activity at levels below the baseline firing rate observed before the onset of the stimulus. The authors of the study suggested that this was evidence of a separate and more global inhibitory mechanism ([Super et al., 2001][Super]), which is consistent with [Mizunuma et al., 2014][Mizunuma]'s finding that IPSC changes in activation-based intrinsic excitability were more global than EPSC changes. In the case of [Super et al., 2001][Super], this implies that information about which neurons had recently activated was indeed still encoded in their increased firing rate, but only relative to the even lower firing rates of the other neurons relevant to the task. This is quite consistent with the many observations that during working memory tasks, sensory cortical activity during the delay period is quite low overall but contains a high level of information about sensory memory content (reviewed in [Sreenivasan et al., 2014][Sreenivasan]). This together with [Super et al., 2001][Super] suggests that information about memory content in sensory cortex is encoded in the relative firing rates of different neuronal ensembles, and that it may specifically be manifested in relatively increased baseline activity of the recently activated neurons, which may in turn yield relatively increased excitability.\n",
    "\n",
    "[Buonomano]: [http://www.nature.com/nrn/journal/v10/n2/abs/nrn2558.html]\n",
    "[Jung]: http://journals.plos.org/plosone/article?id=10.1371/journal.pone.0006549\n",
    "[Luczak]: https://www.jneurosci.org/content/33/4/1684.full\n",
    "[McCormick]: http://cercor.oxfordjournals.org/content/13/11/1219.full\n",
    "[Mizunuma]: http://www.ncbi.nlm.nih.gov/pubmed/24633127\n",
    "[Mongillo]: http://science.sciencemag.org/content/319/5869/1543\n",
    "[Shen]: http://www.ncbi.nlm.nih.gov/pubmed/9034855\n",
    "[Sreenivasan]: http://www.ncbi.nlm.nih.gov/pubmed/24439529\n",
    "[Super]: http://www.ncbi.nlm.nih.gov/pubmed/11441187\n",
    "[Zhang]: http://www.nature.com/nrn/journal/v4/n11/abs/nrn1248.html"
   ]
  }
 ],
 "metadata": {
  "kernelspec": {
   "display_name": "Python 2",
   "language": "python",
   "name": "python2"
  },
  "language_info": {
   "codemirror_mode": {
    "name": "ipython",
    "version": 2
   },
   "file_extension": ".py",
   "mimetype": "text/x-python",
   "name": "python",
   "nbconvert_exporter": "python",
   "pygments_lexer": "ipython2",
   "version": "2.7.10"
  }
 },
 "nbformat": 4,
 "nbformat_minor": 0
}

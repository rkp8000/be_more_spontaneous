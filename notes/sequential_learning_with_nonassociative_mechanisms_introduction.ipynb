{
 "cells": [
  {
   "cell_type": "markdown",
   "metadata": {},
   "source": [
    "### Sequential replay of stimulus-induced neural activity patterns\n",
    "Offline replay of sequential neural activity patterns that were originally induced by a specific sensory experience has been observed in many brain regions, including hippocampus ([Nadasdy et al., 1999][Nadasdy], [Louie and Wilson, 2001][Louie]), prefrontal cortex ([Euston et al., 2007][Euston]), and sensory cortex ([Ji and Wilson 2007][Ji], [Han et al., 2008][Han], [Eagleman and Dragoi, 2012][Eagleman]) in mammals, as well as in RA in songbirds ([Dave and Margoliash, 2000][Dave]). Functionally, it is thought that replay of neural activity plays a strong role in working and short-term memory ([Han et al., 2008][Han]) as well as in the long-term consolidation of memories ([Carr, et al., 2011][Carr]). However, the neurophysiological mechanisms underlying replay remain poorly understood.\n",
    "\n",
    "In order for structured sequential replay to occur, certain aspects of the stimulus-induced activity pattern must be *tagged*, such that the full or portions of the original activity sequence gains an increased probability of reactivating in the absence of further stimuli. Most models assume that such tagging occurs via increases in the weight of the synaptic couplings between sequentially activated ensembles of neurons ([Hasselmo 2008][Hasselmo], [Borisyuk et al., 2013][Borisyuk], [Kappel et al., 2014][Kappel], [Veliz-Cuba et al., 2015][Veliz-Cuba]), consistent with the well established phenomenon of spike-timing dependent plasticity (STDP) ([Bi and Poo, 2001][Bi]). For example, if during stimulus presentation ensemble A activates followed by ensemble B, then these models assert that the connections from A onto B should increase its weight. One then expects that if A activates during offline activity, B will have an increased probability of activating subsequently, relative to the case in which B had not activated after A during the stimulus presentation.\n",
    "\n",
    "While it is likely that this mechanism indeed plays a partial role in sequential replay, there are a number of reasons to suspect that it is not sufficient on its own. First, even though replay is empirically observed after only one ([Eagleman and Dragoi, 2012][Eagleman]) or a few ([Han et al., 2008][Han]) stimulus presentations, changes in associative coupling (due to STDP, for example) after a single event are typically very small and would likely be insufficient to significantly increase the probability of one specific ensembles's activation given the immediately preceding activation of another. Further, natural stimulus patterns may occur with temporal spacing of the sensory elements far exceeding the window canonically required for STDP, so it may the case that no STDP can occur at all. Additionally, brain networks typically exhibit a wide variety of ongoing spatiotemporal patterns, which are indicative of a baseline pattern of connectivity ([Mohajerani et al., 2013][Mohajerani]); therefore, any changes in connection weights between sequentially activated ensembles would have to be strong enough to overcome the intrinsic biases the network has toward replaying patterns already encoded in its baseline connectivity structure. Finally, one would ideally like a mechanism by which sequential activation patterns related to recent sensory experience are held only transiently in memory, such that they could be \"embedded\" into the network's long-term repertoire of sequences if the sensory experience is particularly salient or leads to a reward, and otherwise forgotten. If novel patterns are simply encoded in synaptic weights, then the network cannot know which weights correspond to recent activity and which correspond to previously established connections, thus making the separation of short-term and long-term timescales impossible.\n",
    "\n",
    "[Bi]: http://www.ncbi.nlm.nih.gov/pubmed/11283308\n",
    "[Borisyuk]: http://www.sciencedirect.com/science/article/pii/S0303264713000737\n",
    "[Carr]: http://www.ncbi.nlm.nih.gov/pubmed/21270783\n",
    "[Dave]: http://www.ncbi.nlm.nih.gov/pubmed/11052946\n",
    "[Eagleman]: http://www.ncbi.nlm.nih.gov/pubmed/23129638\n",
    "[Euston]: http://www.ncbi.nlm.nih.gov/pubmed/18006749\n",
    "[Han]: http://www.cell.com/abstract/S0896-6273(08)00767-8\n",
    "[Hasselmo]: http://onlinelibrary.wiley.com/doi/10.1111/j.1460-9568.2008.06437.x/full\n",
    "[Ji]: http://www.nature.com/neuro/journal/v10/n1/abs/nn1825.html\n",
    "[Kappel]: http://journals.plos.org/ploscompbiol/article?id=10.1371/journal.pcbi.1003511\n",
    "[Louie]: http://www.sciencedirect.com/science/article/pii/S0896627301001866\n",
    "[Mohajerani]: http://www.nature.com/neuro/journal/v16/n10/full/nn.3499.html\n",
    "[Nadasdy]: http://www.ncbi.nlm.nih.gov/pubmed/10531452\n",
    "[Veliz-Cuba]: http://link.springer.com/article/10.1007%2Fs10827-015-0574-4#page-1"
   ]
  },
  {
   "cell_type": "markdown",
   "metadata": {},
   "source": [
    "### Nonassociative increases in excitability as an additional substrate for replay\n",
    "Here we propose the involvement of an additional mechanism in sequentially structured replay: temporary increases in the excitability of recently activated neuronal ensembles. Unlike changes in connection weights between pairs of consecutively active ensembles, this is a *nonassociative* memory mechanism, meaning that only the identity, and not the order, of the recently activated ensembles is explicitly remembered. What do we expect to be the principal consequences of such a mechanism, even in the absence of synaptic weight changes? First of all, in a spontaneously active network, increasing an ensemble's excitability can indeed increase the probability that it reactivates ([Shen and McNaughton 1996][Shen]). More generally, however, we hypothesize that changes in ensemble excitability will lead to changes in functional connectivity among ensembles that can in certain conditions be conducive to sequential replay, in spite of no explicit memory of the sequence.\n",
    "\n",
    "### Empirical evidence for activity-dependent increases in baseline firing and excitability\n",
    "Before exploring this hypothesis in more detail, we note that while synaptic plasticity has received a good deal more attention in the literature, rapid changes in neuronal excitability have also been observed in a wide variety of systems and at multiple timescales. In a working memory task, for example, in which a monkey was required to remember the location of a brief (28ms) flashed visual stimulus and saccade to the remembered location up to 2 seconds later, it was observed that V1 neurons activated by the stimulus (i.e., whose receptive fields included the stimulus location) maintained elevated activity throughout the delay period relative to neurons not activated by the stimulus ([Super et al., 2001][Super]). Further, the animal's performance at the task correlated with the strength of the elevated activity. This indicates that even after stimulus offset, stimulus-specific information is contained in the elevated firing rates of recently activated neuronal ensembles in primary sensory cortices (i.e., the elevated firing rate is the memory \"tag\"), which may suggest an increase in relative excitability of those ensembles. Indeed, it was also shown in hippocampal slices that recently activated neurons spontaneously received increased excitation relative to inhibition, as compared with non-recently activated neurons, and the recently activated neurons were more likely to reactivate spontaneously, again suggesting a role of increased neuronal excitability in short-term memory ([Mizunuma et al., 2014][Mizunuma]). Rapid (over the timescale of minutes), activation-dependent increases in intrinsic neuron excitability have also been observed in other experiments in hippocampus ([Jung and Hoffman 2009][Jung]), cerebellum, and cortex (reviewed in [Zhang and Linden 2003][Zhang]).\n",
    "\n",
    "Another important line of evidence regarding short-term increases in excitability comes from the long line of studies exploring priming. In a typical experiment, a monkey is shown a target stimulus and after a delay period (which either includes no additional distractor stimuli or no stimulus at all) is required to indicate whether a test stimulus is identical to the target. Evidence for priming is given by the difference in responses when the test stimulus is matched vs. unmatched to the target. A large number of studies that have recorded from cortical neurons (e.g., PFC, PPC, IT, V4, etc.) during the experiment have found two distinct classes of neurons: those whose response to the matched test stimulus was suppressed relative to the target (even though the target and test were the same), and those whose response to the matched test stimulus was enhanced. Usually a majority of the recorded cells were of the suppressor variety, but in many cases there was a small yet non-negligible fraction of enhancer cells. In V4, up to 77% of cells were of the enhancer variety, showing an increased response to repeated stimuli. These studies are reviewed in [Tartaglia, Mongillo, and Brunel 2015][Targalia].\n",
    "\n",
    "### Mechanisms behind excitability increases\n",
    "Molecular mechanisms responsible for activation-based increases in the excitability of neural ensembles include decreases in A-type K+ channel numbers (which normally inhibit neural activation) ([Jung and Hoffman 2009][Jung]), as well NMDA-receptor and Ca2+-based mechanisms ([Zhang and Linden 2003][Zhang]). However, it is not unreasonable to think that, in addition to intrinsic molecular mechanisms, persistent electrical activity in a local network might contribute to short-term increases in the excitability of recently activated neuronal ensembles. Indeed, in the general case it is well appreciated that the ongoing activity state of the network surrounding a neuron can modulate or gate that neuron's responses to specific inputs ([McCormick et al., 2003][McCormick], [Buononano et al., 2009][Buonomano], [Luczak et al., 2013][Luczak]). For example, if a neuron is receiving a higher level of baseline activity due to the current network state, it may respond more easily to a weak input. More mechanistically, one might imagine a neural ensemble with two timescales: a fast, transient timescale indicative of the ensemble's activation response and due to the timescales of the individual neurons, and a slower timescale governed by the strength of recurrent excitatory connectivity within the ensemble (which is observed experimentally when one defines ensembles by the receptive field properties of their component neurons [[Ko et al., 2011][Ko]]), and which can maintain the ensemble in an elevated, but not necessarily \"active\" state for some longer period of time. \n",
    "\n",
    "Consistent with the hypothesis of persistent stimulus-specific activity in sensory cortex are many neuroimaging experiments in which information about a remembered stimulus could be reliably decoded from sensory cortical activity during the delay period of the task (reviewed in [Sreenivasan et al., 2014][Sreenivasan]). In the context of other persistent-activity-based memory literature, these studies generally conclude that whereas prefrontal cortex exhibits strong persistent activity with little information about the sensory content of the remembered items, sensory cortex contains exhibits weak persistent activity, yet this activity contains much information about sensory content ([Lee et al., 2013][Lee], [Sreenivasan et al., 2014][Sreenivasan]). These results together with those of [Super et al., 2001][Super], are consistent with the hypothesis that during the period following stimulus offset, stimulus-specific persistent activity weakly excites the neural ensemble originally activated by the stimulus, thus making it more responsive to inputs than ensembles that were not orginally activated by the stimulus.\n",
    "\n",
    "It should be noted that in the studies above that observed stimulus-specific information in persistent activity in sensory cortex (following stimulus offset), this activity was very weak (despite containing a lot of information), at least when compared to the strong persistent activity frequently observed in prefrontal cortex during working memory tasks ([Sreenivasan et al., 2014][Sreenivasan]). In fact, in [Super et al., 2001][Super], the post-stimulus elevated response of the originally activated neural ensemble was actually lower than its baseline firing rate before the stimulus, though still significantly higher than the post-stimulus response of the non-stimulated ensembles. This suggests that task onset triggers prolonged global inhibition across the relevant portion of sensory cortex and that stimulus information (and potentially reactivation probability) is contained primarily in the *relative* firing rates of different neural ensembles, and that therefore the lack of high firing rates does not imply a lack stimulus-specific short-term memory in the persistent electrical activity of sensory cortex.\n",
    "\n",
    "A final potential mechanism for activation-based increases in excitability due to recurrent network dynamics can be pieced together from two experiments in entorhinal cortex. In one, it was found that neurons in entorhinal cortex maintained strong, stable, persistent activity that was a simple function of their recent inputs ([Egorov et al., 2002][Egorov]). In another it was found that activating entorhinal cortical inputs to CA1 in hippocampus made the CA1 cells more excitable in response to inputs from CA3, and it was shown that the an interaction affected the contextually dependent behaviors ([Basu et al., 2016][Basu]). Consistent with these two studies is the possibility that activation-dependent persistent activity in entorhinal cortex could increase the excitability of CA1 neurons in a cell- or ensemble-specific manner. This would provide another mechanism for short-term activation-dependent excitability increases. Importantly, none of the results or mechanisms mentioned above require explicit changes in associative coupling between ensembles, only in their intrinsic excitability.\n",
    "\n",
    "### The goal of this work\n",
    "Here we abstract away from the specific mechanism behind short-term increases in excitability and instead model it phenomenologically by simply representing an increase in an ensemble's excitability as a persistent input to that ensemble, whose onset follows the ensemble's initial activation and which decays after a certain amount of time (this representation is most influenced by the results of [Super et al., 2001][Super] and [Mizunuma et al., 2014][Mizunuma], though it is not inconsistent with other results or hypotheses). Our primary goal then is to elucidate in a simple model some important ways that such nonassociative increases in ensemble excitability can be expected to shape network dynamics, especially those related to short-term memory. We specifically explore the interaction of this phenomenon with intrinsic patterns of activity encoded by the network's connectivity structure. We show how activation-triggered excitability can bias post-stimulus spontaneous activity toward spontaneous replay of stimulus-triggered activation patterns, and we show how such temporary increases in excitability can allow a large set of novel patterns (patterns that have negligible probability of arising spontaneously) to replayed by the network. Further, we show that in the presence of continued stimulation, increases in ensemble excitability shape the computation performed by the network in a meaningful way. We then show how this nonassociative memory phenomenon combined with STDP can be used to embed novel patterns into a network's connectivity structure through spontaneous offline replay, as well as how one might expect the baseline connectivity structure to arise over a long timescale from continual sensory stimulation. Finally, we describe a framework for interpreting all of our results that centers around fast, temporary changes in functional connectivity.\n",
    "\n",
    "[Basu]: http://science.sciencemag.org/content/351/6269/aaa5694\n",
    "[Buonomano]: [http://www.nature.com/nrn/journal/v10/n2/abs/nrn2558.html]\n",
    "[Egorov]: http://www.nature.com/nature/journal/v420/n6912/abs/nature01171.html\n",
    "[Jung]: http://journals.plos.org/plosone/article?id=10.1371/journal.pone.0006549\n",
    "[Ko]: http://www.nature.com/nature/journal/v473/n7345/full/nature09880.html\n",
    "[Lee]: http://www.nature.com/neuro/journal/v16/n8/full/nn.3452.html\n",
    "[Luczak]: https://www.jneurosci.org/content/33/4/1684.full\n",
    "[McCormick]: http://cercor.oxfordjournals.org/content/13/11/1219.full\n",
    "[Mizunuma]: http://www.ncbi.nlm.nih.gov/pubmed/24633127\n",
    "[Mongillo]: http://science.sciencemag.org/content/319/5869/1543\n",
    "[Shen]: http://www.ncbi.nlm.nih.gov/pubmed/9034855\n",
    "[Sreenivasan]: http://www.ncbi.nlm.nih.gov/pubmed/24439529\n",
    "[Super]: http://www.ncbi.nlm.nih.gov/pubmed/11441187\n",
    "[Tartaglia]: http://journal.frontiersin.org/article/10.3389/fpsyg.2014.01590/abstract\n",
    "[Zhang]: http://www.nature.com/nrn/journal/v4/n11/abs/nrn1248.html"
   ]
  }
 ],
 "metadata": {
  "kernelspec": {
   "display_name": "Python 2",
   "language": "python",
   "name": "python2"
  },
  "language_info": {
   "codemirror_mode": {
    "name": "ipython",
    "version": 2
   },
   "file_extension": ".py",
   "mimetype": "text/x-python",
   "name": "python",
   "nbconvert_exporter": "python",
   "pygments_lexer": "ipython2",
   "version": "2.7.10"
  }
 },
 "nbformat": 4,
 "nbformat_minor": 0
}

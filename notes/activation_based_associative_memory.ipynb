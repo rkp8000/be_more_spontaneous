{
 "cells": [
  {
   "cell_type": "markdown",
   "metadata": {},
   "source": [
    "# Notes for constructing an activation-based associative memory network"
   ]
  },
  {
   "cell_type": "markdown",
   "metadata": {},
   "source": [
    "### Quick summary\n",
    "\n",
    "We would like to build a network that can remember and recall pairwise associations between a large number of neural assemblies. This network should be *non-plastic*, using persistent electrical activity only. To do this efficiently, so that we don't need an \"association unit\" for every pair of assemblies, we collect the assemblies into groups, such that the network can only remember associations between assemblies in different groups. One might imagine the specific grouping of assemblies as acting as a sort of prior over associations, such that assemblies in certain groups would be \"easier\" to associate. Under this architecture, although we lose the ability to remember certain pairs of associations, this ends up being a small number, so that the network can still remember $O(N^2)$ associations, if $N$ is the number of original assemblies.\n",
    "\n",
    "The following describes how a plan to implement this network."
   ]
  },
  {
   "cell_type": "markdown",
   "metadata": {},
   "source": [
    "### Rate-based model\n",
    "\n",
    "For the sake of simplicity, we consider a network consisting of several types of assembly that each have a \"voltage\" and a \"firing rate\". The mathematical formulation is that of a rate-based model. Each assembly type is defined by its integration timescale, resting potential, \"steepness\", threshold (steepness and threshold govern the relationship between voltage and firing rate), and connectivity to other units. Assemblies of the same type all have the same parameters, but may have different voltages and firing rates, depending on their input, etc."
   ]
  },
  {
   "cell_type": "markdown",
   "metadata": {},
   "source": [
    "### Stable states\n",
    "\n",
    "Arising from the rate-based model are a couple of interesting and useful *stable* states for a unit, which term we will henceforth use to refer to assemblies, to be in.\n",
    "\n",
    "1. \"Down\" - with no external input, a unit goes to its \"down\" state: resting voltage and minimal firing rate\n",
    "1. \"Up\" - a unit with a sufficiently strong excitatory (E) self-connection can be pushed by a strong input into an \"up\" state of high voltage and near-maximal firing rate and maintain this state in the absence of further input.\n",
    "1. \"Poised\" - we use this term to refer to a unit receiving weak input from another unit in its upstate. A poised unit is not active but will more easily cross its activation threshold than a unit at its resting potential.\n",
    "\n",
    "<img src=\"files/stable_states.png\" width=\"500\" />\n",
    "\n",
    "Diagram: inner circle is voltage (blue is high), outer circle is firing rate (red is high)."
   ]
  },
  {
   "cell_type": "markdown",
   "metadata": {},
   "source": [
    "### Receptive-field (RF) units\n",
    "\n",
    "We consider $N$ RF-units, named because each RF-unit activates when its receptive field (RF) is excited by a preferred stimulus. The network will remember associations between these units.\n",
    "\n",
    "Each RF-unit receives weak E input from an RFM-unit (M standing for memory), and the RFM-unit has an E self-connection so that it can stably be in a down- or up-state. When the RFM-unit is up, the RF-unit is poised. The RF-unit sends an E connection back to its RFM-unit, so that if the RF-unit is activated, the RFM-unit will move to its up-state.\n",
    "\n",
    "<img src=\"files/rf_rfm.png\" width=\"1000\" />\n",
    "\n",
    "Activating an RF-unit moves its RFM-unit to the up-state, which moves the RF-unit to the poised state. Thus, the network remembers which RF-units have been recently activated, and these will be poised to activate again more easily."
   ]
  },
  {
   "cell_type": "markdown",
   "metadata": {},
   "source": [
    "### Groups of RF-units\n",
    "\n",
    "We group the $N$ RF-units into $k$ groups of $n$ RF-units each. One can think of the grouping as containing \"prior\" information. For example, one might imagine a visual group, an auditory group, a somatosensory group, etc. If at least one RF-unit in a group is active, we say that the RF-group is active.\n",
    "\n",
    "<img src=\"files/rf_group.png\" width=\"400\" />\n",
    "\n",
    "Diagram: this group has $n=3$ RF-units and there are $k$ groups."
   ]
  },
  {
   "cell_type": "markdown",
   "metadata": {},
   "source": [
    "### Shared inputs to and outputs from RF-units in a group\n",
    "\n",
    "We next assign to each group of RF-units one GI-unit (group input unit) and one GO-unit (group output unit). All signals to and from the group flow through the RFI-unit and RFO-unit.\n",
    "\n",
    "The GI-unit has weak E connections to all RF-units in the group. Thus, if the GI-unit activates, only the poised RF-units in the group will activate. The GO-unit receives strong E connections from all RF-units in the group. Thus, if any RF-unit in the group is active, the GO-unit will be active.\n",
    "\n",
    "Since there is one GI-unit and one GO-unit per group, there are $k$ GI-units and $k$ GO-units in total.\n",
    "\n",
    "<img src=\"files/gi_go.png\" width=\"600\" />\n",
    "\n",
    "Diagram: input to the group is distributed equally to all RF-units -- output is sent if any RF-unit is active"
   ]
  },
  {
   "cell_type": "markdown",
   "metadata": {},
   "source": [
    "### Association complexes for remembering group\n",
    "\n",
    "Between every ordered pair of RF-groups we place an association complex (A-complex). If the two groups activate in the correct order, the A-complex enters its persistent state, which opens a communication gate between the two groups by moving a G-unit (gate unit) into its poised state. When the G-unit is poised, its voltage is close enough to its threshold that it will pass along a signal from the upstream group to the downstream group.\n",
    "<img src=\"files/ass_complex.png\" width=\"600\" />"
   ]
  },
  {
   "cell_type": "markdown",
   "metadata": {},
   "source": [
    "### The mechanism of an association complex\n",
    "\n",
    "To be continued..."
   ]
  }
 ],
 "metadata": {
  "kernelspec": {
   "display_name": "Python 2",
   "language": "python",
   "name": "python2"
  },
  "language_info": {
   "codemirror_mode": {
    "name": "ipython",
    "version": 2
   },
   "file_extension": ".py",
   "mimetype": "text/x-python",
   "name": "python",
   "nbconvert_exporter": "python",
   "pygments_lexer": "ipython2",
   "version": "2.7.10"
  }
 },
 "nbformat": 4,
 "nbformat_minor": 0
}

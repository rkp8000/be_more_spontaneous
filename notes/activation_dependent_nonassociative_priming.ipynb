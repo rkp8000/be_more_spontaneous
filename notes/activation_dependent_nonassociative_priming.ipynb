{
 "cells": [
  {
   "cell_type": "markdown",
   "metadata": {},
   "source": [
    "Spontaneous brain activity consists of spatiotemporally structured patterns ([Mohajerani et al., 2013][Mohajerani], [Carrillo-Reid et al., 2015][Carrillo-Reid]), and the probability distribution governing the occurrence of these patterns changes over time. How this distribution changes typically depends on previous neural activity and can be considered the neural correlate of memory. A specific theme in memory-related experiments is that the patterns observed during one period of time are biased towards replay or reflection of patterns that have occurred previously. For example, the \"offline\" replay of sequential neural firing patterns originally seen during an active portion of the task has been observed in a multitude of mammalian brain areas, including hippocampus ([Nadasdy et al., 1999][Nadasdy], [Louie and Wilson, 2001][Louie]), prefrontal cortex ([Euston et al., 2007][Euston]), and visual cortex ([Ji and Wilson 2007][Ji], [Han et al., 2008][Han], [Eagleman and Dragoi, 2012][Eagleman]), as well as in RA in songbirds ([Dave and Margoliash, 2000][Dave]). Behaviorally, experiments in which human subjects successfully repeat previously heard sentences when cued to do so ([Potter and Lombardi, 1998][Potter]) also strongly indicate a change in the neural activity reflective of activity experienced in the past.\n",
    "\n",
    "[Carrillo-Reid]: http://www.jneurosci.org/content/35/23/8813.abstract\n",
    "[Dave]: http://www.ncbi.nlm.nih.gov/pubmed/11052946\n",
    "[Eagleman]: http://www.ncbi.nlm.nih.gov/pubmed/23129638\n",
    "[Euston]: http://www.ncbi.nlm.nih.gov/pubmed/18006749\n",
    "[Han]: http://www.cell.com/abstract/S0896-6273(08)00767-8\n",
    "[Ji]: http://www.nature.com/neuro/journal/v10/n1/abs/nn1825.html\n",
    "[Louie]: http://www.sciencedirect.com/science/article/pii/S0896627301001866\n",
    "[Mohajerani]: http://www.nature.com/neuro/journal/v16/n10/full/nn.3499.html\n",
    "[Nadasdy]: http://www.ncbi.nlm.nih.gov/pubmed/10531452\n",
    "[Potter]: http://www.sciencedirect.com/science/article/pii/S0749596X97925468"
   ]
  },
  {
   "cell_type": "markdown",
   "metadata": {},
   "source": [
    "The mechanism typically invoked to explain the \"embedding\" of sequential activity patterns into a neural network is spike-timing dependent plasticity (STDP) ([Bi and Poo 2001][Bi]). STDP postulates that the sequential firing of two synaptically connected neurons will result in an increase in the strength of the synapse from the neuron that fired first to the neuron that fired second. For example, if the activation of a neural ensemble A is followed by a connected neural ensemble B, STDP proposes that the synaptic connections from A to B should increase their strength. Then, the next time A activates, B will received increased input and will have a higher probability of activating. Indeed, STDP can cause the emergence of repeatable activity sequences in realistic model networks ([Klampfl and Maass 2013][Klampfl]).\n",
    "\n",
    "However, while STDP is undoubtedly important for many neurophysiological phenomena, there are several reasons why it is improbable that it alone is sufficient for the embedding of sequential activity patterns into a network. First, while sequential neural replay has been observed after only one ([Eagleman and Dragoi, 2012][Eagleman]) or a few ([Han et al., 2008][Han]) presentations of the original stimulus, and in human behavioral studies subjects can repeat back sentences immediately after hearing them ([Potter and Lombardi 1998][Potter]), the changes in synaptic strength evoked by STDP are typically quite small ([Bi and Poo 2001][Bi], [Caporale and Dan 2008][Caporale]), and it is unlikely that such changes could affect the distribution over sequential activation patterns enough to significantly bias it toward a recently occurring pattern. Additionally, even if such changes were significant they would strongly interfere with memories previously existing in the network, as the network would have no way of distinguishing whether the strength of a synaptic connection was due to a recent modification or whether it corresponded to a long-term memory. This leads us to consider an additional problem with STDP. Ideally, one would like memory-specific modifications of the network structure to be conditional on a global signal potentially occurring some time after the relevant activity pattern, such as a reward or punishment signal in response to an animal's recent motor sequence. In order for this to occur the neural activation sequence would have to be temporarily *tagged*, and only if it was deemed behaviorally relevant would the network identify the relevant synapses and modify them accordingly. Finally, in order for STDP to function, the pre- and postsynapic action potentials have to occur within about 20 ms of one another ([Bi and Poo 2001][Bi]), a timescale that is much faster than many naturalistic stimulus or motor timescales.\n",
    "\n",
    "[Bi]: http://www.ncbi.nlm.nih.gov/pubmed/11283308\n",
    "[Caporale]: http://www.ncbi.nlm.nih.gov/pubmed/18275283\n",
    "[Eagleman]: http://www.ncbi.nlm.nih.gov/pubmed/23129638\n",
    "[Han]: http://www.cell.com/abstract/S0896-6273(08)00767-8\n",
    "[Klampfl]: http://www.jneurosci.org/content/33/28/11515.abstract\n",
    "[Potter]: http://www.sciencedirect.com/science/article/pii/S0749596X97925468"
   ]
  },
  {
   "cell_type": "markdown",
   "metadata": {},
   "source": [
    "STDP is fundamentally an associative memory mechanism. That is, it acts on associations or connections between pairs of neurons or pairs of neural ensembles. It is natural, of course, to assume that sequential activity patterns, in which the activation of one specific neural ensemble should lead to the activation of another with a probability greater than chance, must be learned via associative mechanisms. In this paper we instead ask whether nonassociative mechanisms could also play a significant role in learning the associations and sequences necessary for embedding spatiotemporal activity patterns into a network. Whereas associative memory mechanisms are activation-dependent modifications of *connections* between pairs of ensembles, we define nonassociative memory mechanisms to simply be activation-dependent modifications of the excitability of individual ensembles, regardless of their connections to other ensembles in the network. Below we review experiments in which nonassociative memory mechanisms have been observed and investigated.\n",
    "\n",
    "We focus on evidence that activating a neuron one or more times with a stimulus increases its excitability in response to subsequent stimuli. Such increases in the excitability of individual neurons occur at many timescales and in many brain areas, including hippocampus, cerebellum, and neocortex; they typically manifest via either increasingly strong responses to a train of depolarizing current pulses or a decrease in firing threshold as more stimuli are presented (reviewed in [Zhang and Linden 2003][Zhang]). Molecular mechanisms implicated in excitability changes occurring over the timescale of dozens of seconds or more include mechanisms dependent on NMDA-receptors and Ca2 ([Zhang and Linden 2003][Zhang]), as well as decreases in the active population of A-type potassium channels (which open at high voltages and thus slow the onset of action potentials) ([Jung and Hoffman 2009][Jung]).\n",
    "\n",
    "Excitability changes on the order of seconds, which is closer to the timescale of working memory, are also observed experimentally. The clearest example of this phenomena is repetition enhancement. In a typical experiment, an animal is presented with a target stimulus and then after a short delay (potentially containing intervening stimuli) with a test stimulus, and the animal must decide whether the test stimulus matched the target. In many experiments it has been observed that a significant percentage of neurons show an increased response to the second presentation of the stimulus (i.e., when the test matches the target), suggesting an increase in their overall excitability. For example, when monkeys were presented with a stream of visual stimuli following a target stimulus and had to release a bar when one of the streaming stimuli matched the target, many neurons showed an increased response to the matching stimulus relative to when the same stimulus was presented when it was not the match ([Hayden and Gallant 2013][Hayden]). Similar phenomena have been observed in several brain areas, including inferotemporal cortex (IT), posterior parietal cortex (PPC), and MT (reviewed in [Tartaglia et al., 2015][Tartaglia]). Repetition enhancement is also often accompanied by a small number of cells exhibiting persistent activity during the delay period of the task ([Tartaglia et al., 2015][Tartaglia]). Importantly, neuroimaging studies of working memory tasks in humans have shown that such delay activity in sensory cortex contains a high level of information about the sensory content of the memory, demonstrating that it is not simply a binary indicator of whether a stimulus was remembered or not ([Sreenivasan et al., 2014][Sreenivasan]). To try to explain delay activity and repetition enhancement in a simple way that was consistent with experimental evidence, [Tartaglia et al., 2015A][Tartaglia A] developed a model of a network of integrate-and-fire neurons based on recurrent excitation in which stimulus-selective repetition enhancement resulted from local excitability increases caused by stimulus-selective persistent delay activity. Thus, there is much evidence that neurons *in vivo* can exhibit short-term activation-dependent increases in excitability, and modeling has shown that this can be achieved through simple mechanisms.\n",
    "\n",
    "[Hayden]: http://www.frontiersin.org/Decision_Neuroscience/10.3389/fnins.2013.00018/abstract\n",
    "[Jung]: http://journals.plos.org/plosone/article?id=10.1371/journal.pone.0006549\n",
    "[Sreenivasan]: http://www.ncbi.nlm.nih.gov/pubmed/24439529\n",
    "[Tartaglia]: http://journal.frontiersin.org/article/10.3389/fpsyg.2014.01590/full#h1\n",
    "[Tartaglia A]: http://www.ncbi.nlm.nih.gov/pmc/articles/PMC4335032/\n",
    "[Zhang]: http://www.nature.com/nrn/journal/v4/n11/abs/nrn1248.html"
   ]
  },
  {
   "cell_type": "markdown",
   "metadata": {},
   "source": [
    "The goal of this work is to elucidate some of the qualitative consequences we expect nonassociative activation-dependent increases in neural excitability (which we henceforth call **nonassociative priming**) to have in regard to shaping the distributions of sequential neural activity patterns. To do this we investigate a simple randomly connected winner-take-all network with probabilistic binary activations. Each node in the network corresponds to an ensemble of similarly tuned neurons, but to remain conservative we do not model the neurons individually. By construction, such a network exhibits sparse, stochastic activation patterns that sometimes fall along stereotyped trajectories. The model network exhibits gating of external drive inputs by spontaneous activity, as has been observed experimentally ([Luczak et al., 2013][Luczak]), as well as sequential pattern matching. In this paper we focus specifically on short-term nonassociative priming (i.e., which probably results biophysically from recurrent excitation within an ensemble), though in the future it will be worthwhile to consider longer timescales. We show that when we augment our model with a simple phenomenological implementation of nonassociative priming, the network recapitulates the qualitative aspects of several memory-related phenomena, including sequential replay, memory-dependent modulation of input-output computations, and single-trial learning of sequential stimulus patterns. In doing this, we illustrate how nonassociative priming temporarily and reversibly changes the functional connectivity structure of the network and how its ability to \"imprint\" associative and sequential memories into a network is both augmented and constrained by the underlying anatomical connectivity.\n",
    "\n",
    "[Luczak]: http://www.jneurosci.org/content/33/4/1684.abstract"
   ]
  }
 ],
 "metadata": {
  "kernelspec": {
   "display_name": "Python 2",
   "language": "python",
   "name": "python2"
  },
  "language_info": {
   "codemirror_mode": {
    "name": "ipython",
    "version": 2
   },
   "file_extension": ".py",
   "mimetype": "text/x-python",
   "name": "python",
   "nbconvert_exporter": "python",
   "pygments_lexer": "ipython2",
   "version": "2.7.11"
  }
 },
 "nbformat": 4,
 "nbformat_minor": 0
}

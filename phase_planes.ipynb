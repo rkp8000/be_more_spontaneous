{
 "cells": [
  {
   "cell_type": "code",
   "execution_count": 22,
   "metadata": {
    "collapsed": false
   },
   "outputs": [],
   "source": [
    "from __future__ import division, print_function\n",
    "import matplotlib.pyplot as plt\n",
    "import numpy as np\n",
    "plt.style.use('ggplot')\n",
    "%matplotlib inline\n",
    "\n",
    "import sys\n",
    "sys.path.append('/Users/rkp/Dropbox/Repositories/figure_magic')\n",
    "\n",
    "import axis_tools"
   ]
  },
  {
   "cell_type": "code",
   "execution_count": 23,
   "metadata": {
    "collapsed": true
   },
   "outputs": [],
   "source": [
    "FONT_SIZE = 18"
   ]
  },
  {
   "cell_type": "code",
   "execution_count": 12,
   "metadata": {
    "collapsed": true
   },
   "outputs": [],
   "source": [
    "def phi(z):\n",
    "    return 1 / (1 + np.exp(-z))"
   ]
  },
  {
   "cell_type": "markdown",
   "metadata": {},
   "source": [
    "### Rate-based model\n",
    "\n",
    "The rate-based formulation is:\n",
    "\n",
    "$\\tau \\dot v_i = -v_i + \\sum_jw_{ij}\\phi(v_j)$"
   ]
  },
  {
   "cell_type": "markdown",
   "metadata": {},
   "source": [
    "### Self-excitatory population\n",
    "\n",
    "Consider a population that has one feedback connection onto itself:\n",
    "\n",
    "$f(v_i) = \\tau \\dot v_i = -v_i + w_{ii}\\phi(g(v_i - v_i^{th})) + v_{resting}$"
   ]
  },
  {
   "cell_type": "code",
   "execution_count": 46,
   "metadata": {
    "collapsed": false
   },
   "outputs": [
    {
     "data": {
      "image/png": "[encoded data removed]",
      "text/plain": [
       "<matplotlib.figure.Figure at 0x10f911790>"
      ]
     },
     "metadata": {},
     "output_type": "display_data"
    }
   ],
   "source": [
    "# Parameters\n",
    "w_ii = 5.5\n",
    "g = 2.5\n",
    "v_th = 4\n",
    "v_resting = 0\n",
    "\n",
    "v_i = np.linspace(-5, 10, 1000)\n",
    "f = -v_i + w_ii*phi(g*(v_i - v_th)) + v_resting\n",
    "\n",
    "fig, ax = plt.subplots(1, 1, figsize=(10, 6))\n",
    "ax.plot(v_i, f, lw=2)\n",
    "ax.axhline(0, ls='--')\n",
    "\n",
    "ax.set_xlabel('v')\n",
    "ax.set_ylabel('f(v)')\n",
    "\n",
    "axis_tools.set_fontsize(ax, FONT_SIZE)"
   ]
  },
  {
   "cell_type": "code",
   "execution_count": null,
   "metadata": {
    "collapsed": true
   },
   "outputs": [],
   "source": []
  },
  {
   "cell_type": "code",
   "execution_count": null,
   "metadata": {
    "collapsed": true
   },
   "outputs": [],
   "source": []
  }
 ],
 "metadata": {
  "kernelspec": {
   "display_name": "Python 2",
   "language": "python",
   "name": "python2"
  },
  "language_info": {
   "codemirror_mode": {
    "name": "ipython",
    "version": 2
   },
   "file_extension": ".py",
   "mimetype": "text/x-python",
   "name": "python",
   "nbconvert_exporter": "python",
   "pygments_lexer": "ipython2",
   "version": "2.7.10"
  }
 },
 "nbformat": 4,
 "nbformat_minor": 0
}
